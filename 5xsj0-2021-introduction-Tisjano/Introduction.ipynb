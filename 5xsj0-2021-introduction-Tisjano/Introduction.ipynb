{
 "cells": [
  {
   "cell_type": "markdown",
   "metadata": {},
   "source": [
    "# Python Introduction\n",
    "\n",
    "In the following cell we import necessary packages (libraries) that we will use during this assignment. You only need to execute that cell with no changes."
   ]
  },
  {
   "cell_type": "code",
   "execution_count": null,
   "metadata": {},
   "outputs": [],
   "source": [
    "#Don't touch these\n",
    "import cv2\n",
    "import numpy as np\n",
    "import matplotlib.pyplot as plt\n",
    "import time"
   ]
  },
  {
   "cell_type": "markdown",
   "metadata": {},
   "source": [
    "\n",
    "All of the programming exercises for this course will use Jupyter Notebooks, Python and Numpy, the following exercises were made to get you familiar with these things. These exercises won't be graded."
   ]
  },
  {
   "cell_type": "markdown",
   "metadata": {},
   "source": [
    "Numpy is a useful tool for more advanced calculations like adding normal distributions or matrix calculus. Below is an example of how to use numpy to calculate the cross product between two vectors. Check https://numpy.org/doc/stable/reference/index.html for more functions that can be used and try them out!"
   ]
  },
  {
   "cell_type": "code",
   "execution_count": null,
   "metadata": {},
   "outputs": [],
   "source": [
    "x= [3,4,5]\n",
    "y=[2,5,3]\n",
    "z = np.cross(x,y)"
   ]
  },
  {
   "cell_type": "markdown",
   "metadata": {},
   "source": [
    "The OpenCV library can be used to import images using the cv2.imread(path,flag) function. The flag controls the colour of the picture, 0 is a grayscale picture and 1 is a colour picture. Use the function in the empty cell below to import the image file contained in the github repository."
   ]
  },
  {
   "cell_type": "code",
   "execution_count": null,
   "metadata": {},
   "outputs": [],
   "source": [
    "path = \"Example.png\" # write instead of 'your_file_name.jpg' the correct image file name  \n",
    "img = cv2.imread(path,1)\n",
    "cv2.imshow('image', img)\n",
    "cv2.waitKey(0)\n",
    "cv2.destroyAllWindows()"
   ]
  },
  {
   "cell_type": "markdown",
   "metadata": {},
   "source": [
    "OpenCV can now also be used to tinker with the image, for example by resizing it using cv2.resize() or converting it to grayscale using cvtColor(img, cv2.COLOR_BGR2GRAY). OpenCV is a very powerfull and open source library for image processing."
   ]
  },
  {
   "cell_type": "code",
   "execution_count": null,
   "metadata": {},
   "outputs": [],
   "source": [
    "img = cv2.cvtColor(img, cv2.COLOR_BGR2GRAY)\n",
    "cv2.imshow('image', img)\n",
    "cv2.waitKey(0)\n",
    "cv2.destroyAllWindows()"
   ]
  },
  {
   "cell_type": "markdown",
   "metadata": {},
   "source": [
    "Now use this cell below to import Image2 and use the Opencv library to turn the image 180°"
   ]
  },
  {
   "cell_type": "code",
   "execution_count": null,
   "metadata": {},
   "outputs": [],
   "source": [
    "#we import the image and show it\n",
    "#cv2.namedWindow(\"output\", cv2.WINDOW_NORMAL)\n",
    "path2=\"Example2.png\"\n",
    "img2=cv2.imread(path2,1);\n",
    "imgr=cv2.resize(img2,(1900,940))\n",
    "#cv2.imshow('image',imgr);\n",
    "#cv2.waitKey(0)\n",
    "\n",
    "#we obtain the dimensions of our image\n",
    "(h,w)=imgr.shape[:2]\n",
    "(cX,cY)= (w//2,h//2)\n",
    "\n",
    "#rotate the image 180 degrees around its center\n",
    "M=cv2.getRotationMatrix2D((cX,cY),180,1)\n",
    "imrot=cv2.warpAffine(imgr,M,(w,h))\n",
    "cv2.imshow('image',imrot);#IMAGE ROTATED BY 180 DEGREES\n",
    "cv2.waitKey(0)\n",
    "cv2.destroyAllWindows()\n"
   ]
  },
  {
   "cell_type": "markdown",
   "metadata": {},
   "source": [
    "This course is using a GitHub autograder for Vision asignments. This autograder takes your function adds it's own input and compares the output to the correct output every time you push your changes on Github. To test out how it works make a function called power(x,y) that returns $x^y$ (Make sure no cell is printing anything, this breaks the autograder)."
   ]
  },
  {
   "cell_type": "code",
   "execution_count": null,
   "metadata": {},
   "outputs": [],
   "source": [
    "def power(x,y):\n",
    "    return (x**y)\n",
    "    \n",
    "    \n",
    "    "
   ]
  },
  {
   "cell_type": "markdown",
   "metadata": {},
   "source": [
    "We can now call and use the function in other cells."
   ]
  },
  {
   "cell_type": "code",
   "execution_count": null,
   "metadata": {},
   "outputs": [],
   "source": [
    "power(2,3);"
   ]
  },
  {
   "cell_type": "code",
   "execution_count": null,
   "metadata": {},
   "outputs": [],
   "source": []
  }
 ],
 "metadata": {
  "kernelspec": {
   "display_name": "Python 3",
   "language": "python",
   "name": "python3"
  },
  "language_info": {
   "codemirror_mode": {
    "name": "ipython",
    "version": 3
   },
   "file_extension": ".py",
   "mimetype": "text/x-python",
   "name": "python",
   "nbconvert_exporter": "python",
   "pygments_lexer": "ipython3",
   "version": "3.8.8"
  }
 },
 "nbformat": 4,
 "nbformat_minor": 4
}
